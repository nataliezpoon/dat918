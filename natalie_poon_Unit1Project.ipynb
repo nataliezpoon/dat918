{
 "cells": [
  {
   "cell_type": "markdown",
   "metadata": {},
   "source": [
    "<img src=\"http://imgur.com/1ZcRyrc.png\" style=\"float: left; margin: 20px; height: 55px\">\n",
    "\n",
    "# Project 1: Python Coding Exercises\n",
    "\n",
    "_Authors: Joseph Nelson (DC) _\n",
    "\n",
    "---"
   ]
  },
  {
   "cell_type": "markdown",
   "metadata": {},
   "source": [
    "The following code challenges are drawn from common exercises used in technical interviews.\n",
    "\n",
    "Note that there may be several ways to approach each challenge!"
   ]
  },
  {
   "cell_type": "markdown",
   "metadata": {},
   "source": [
    "### Challenge 1.1: Largest Palindrome\n",
    "A palindromic number reads the same both ways. For example, 1234321 is a palindrome. The largest palindrome made from the product of two two-digit numbers is 9009 = 91 × 99. Find the largest palindrome made from the product of two three-digit numbers."
   ]
  },
  {
   "cell_type": "code",
   "execution_count": 5,
   "metadata": {},
   "outputs": [
    {
     "name": "stdout",
     "output_type": "stream",
     "text": [
      "906609\n"
     ]
    }
   ],
   "source": [
    "palin_num = 0\n",
    "# Iterate through both three-digit numbers\n",
    "for a in range(100, 1000):\n",
    "    for b in range(100, 1000):\n",
    "        # Define the product of the two numbers\n",
    "        # Set as a string type\n",
    "        stringnum = str(a * b)\n",
    "        # Define the reverse of the string\n",
    "        rev_stringnum = stringnum[::-1]\n",
    "        \n",
    "        # See if the product and its reverse are the same\n",
    "        if stringnum == rev_stringnum:\n",
    "            # Convert the product back to an integer\n",
    "            num = int(stringnum)\n",
    "            # Store the max value after every loop until end\n",
    "            if num > palin_num:\n",
    "                palin_num = num\n",
    "\n",
    "print palin_num  "
   ]
  },
  {
   "cell_type": "markdown",
   "metadata": {},
   "source": [
    "\n",
    "### Challenge 1.2: Summation of Primes\n",
    "The sum of the primes below 10 is 2 + 3 + 5 + 7 = 17. Find the sum of all the primes below 2,000."
   ]
  },
  {
   "cell_type": "code",
   "execution_count": 88,
   "metadata": {},
   "outputs": [
    {
     "data": {
      "text/plain": [
       "277050"
      ]
     },
     "execution_count": 88,
     "metadata": {},
     "output_type": "execute_result"
    }
   ],
   "source": [
    "prime_list = []\n",
    "# Iterate through desired range\n",
    "for num in range(2, 2000):\n",
    "    # Append to list only if prime\n",
    "    if all(num % i > 0 for i in prime_list):\n",
    "        prime_list.append(num)\n",
    "# Sum of all items in prime_list once loop is done\n",
    "sum_of_primes = sum(prime_list)\n",
    "            \n",
    "sum_of_primes"
   ]
  },
  {
   "cell_type": "markdown",
   "metadata": {},
   "source": [
    "### Challenge 1.3: Multiples of 3 and 5\n",
    "If we list all of the natural numbers below 10 that are multiples of 3 or 5, we get 3, 5, 6, and 9. The sum of these multiples is 23. Find the sum of all the multiples of 3 and 5 below 1,000."
   ]
  },
  {
   "cell_type": "code",
   "execution_count": 33,
   "metadata": {},
   "outputs": [
    {
     "name": "stdout",
     "output_type": "stream",
     "text": [
      "The sum of all multiples of 3 and 5 below 1000 is: 233168\n"
     ]
    }
   ],
   "source": [
    "mult_list = []\n",
    "\n",
    "# Iterate through desired range\n",
    "for num in range(3, 1000):\n",
    "    # Append if number is a multiple of 3 or 5\n",
    "    if num % 3 == 0 or num % 5 == 0:\n",
    "        mult_list.append(num)\n",
    "\n",
    "print(\"The sum of all multiples of 3 and 5 below 1000 is: %d\") % sum(mult_list)"
   ]
  },
  {
   "cell_type": "code",
   "execution_count": 35,
   "metadata": {},
   "outputs": [
    {
     "data": {
      "text/plain": [
       "233168"
      ]
     },
     "execution_count": 35,
     "metadata": {},
     "output_type": "execute_result"
    }
   ],
   "source": [
    "# Option 2 (from solutions to look back on later)\n",
    "\n",
    "# Using the range function we can create ranges of allow multples of 5 as well as 3.\n",
    "# We concatenate these ranges together using th '+' operator.\n",
    "# Once they are concatenated together, we set them to remove all duplicates.\n",
    "# Sum the set range.\n",
    "\n",
    "# sum(set(range(0,1000,5)+range(0,1000,3))) "
   ]
  },
  {
   "cell_type": "markdown",
   "metadata": {},
   "source": [
    "### Challenge 2: FizzBuzz\n",
    "Write a program that prints all of the numbers from 1 to 100. For multiples of 3, instead of the number, print \"Fizz;\" for multiples of 5, print \"Buzz.\" For numbers that are multiples of both 3 and 5, print \"FizzBuzz.\" Bonus: If that's too easy, create three unique solutions. Sometimes you'll encounter unexpected constraints, so make sure you're able to think creatively!"
   ]
  },
  {
   "cell_type": "code",
   "execution_count": 92,
   "metadata": {},
   "outputs": [
    {
     "data": {
      "text/plain": [
       "[1,\n",
       " 2,\n",
       " 'Fizz',\n",
       " 4,\n",
       " 'Buzz',\n",
       " 'Fizz',\n",
       " 7,\n",
       " 8,\n",
       " 'Fizz',\n",
       " 'Buzz',\n",
       " 11,\n",
       " 'Fizz',\n",
       " 13,\n",
       " 14,\n",
       " 'FizzBuzz',\n",
       " 16,\n",
       " 17,\n",
       " 'Fizz',\n",
       " 19,\n",
       " 'Buzz',\n",
       " 'Fizz',\n",
       " 22,\n",
       " 23,\n",
       " 'Fizz',\n",
       " 'Buzz',\n",
       " 26,\n",
       " 'Fizz',\n",
       " 28,\n",
       " 29,\n",
       " 'FizzBuzz',\n",
       " 31,\n",
       " 32,\n",
       " 'Fizz',\n",
       " 34,\n",
       " 'Buzz',\n",
       " 'Fizz',\n",
       " 37,\n",
       " 38,\n",
       " 'Fizz',\n",
       " 'Buzz',\n",
       " 41,\n",
       " 'Fizz',\n",
       " 43,\n",
       " 44,\n",
       " 'FizzBuzz',\n",
       " 46,\n",
       " 47,\n",
       " 'Fizz',\n",
       " 49,\n",
       " 'Buzz',\n",
       " 'Fizz',\n",
       " 52,\n",
       " 53,\n",
       " 'Fizz',\n",
       " 'Buzz',\n",
       " 56,\n",
       " 'Fizz',\n",
       " 58,\n",
       " 59,\n",
       " 'FizzBuzz',\n",
       " 61,\n",
       " 62,\n",
       " 'Fizz',\n",
       " 64,\n",
       " 'Buzz',\n",
       " 'Fizz',\n",
       " 67,\n",
       " 68,\n",
       " 'Fizz',\n",
       " 'Buzz',\n",
       " 71,\n",
       " 'Fizz',\n",
       " 73,\n",
       " 74,\n",
       " 'FizzBuzz',\n",
       " 76,\n",
       " 77,\n",
       " 'Fizz',\n",
       " 79,\n",
       " 'Buzz',\n",
       " 'Fizz',\n",
       " 82,\n",
       " 83,\n",
       " 'Fizz',\n",
       " 'Buzz',\n",
       " 86,\n",
       " 'Fizz',\n",
       " 88,\n",
       " 89,\n",
       " 'FizzBuzz',\n",
       " 91,\n",
       " 92,\n",
       " 'Fizz',\n",
       " 94,\n",
       " 'Buzz',\n",
       " 'Fizz',\n",
       " 97,\n",
       " 98,\n",
       " 'Fizz',\n",
       " 'Buzz']"
      ]
     },
     "execution_count": 92,
     "metadata": {},
     "output_type": "execute_result"
    }
   ],
   "source": [
    "# Solution #1: Outputs answers list using while loop \n",
    "\n",
    "# Initialize the variables to be used\n",
    "answers = []\n",
    "num = 1\n",
    "# Run while loop until num = 100\n",
    "while num <= 100:\n",
    "    word1 = \"\"\n",
    "    word2 = \"\"\n",
    "    if num % 3 == 0:\n",
    "        word1 = \"Fizz\"\n",
    "    if num % 5 == 0:\n",
    "        word2 = \"Buzz\"\n",
    "    # Append only the integer (num) if criteria above is not met\n",
    "    if word1 + word2 == \"\":\n",
    "        answers.append(num)\n",
    "    # Append the concatenation to list\n",
    "    # One 'word' variable will be empty if only one criteria is met\n",
    "    else:\n",
    "        answers.append(word1+word2)\n",
    "    # Move on to the next integer\n",
    "    num += 1\n",
    "    \n",
    "answers\n"
   ]
  },
  {
   "cell_type": "code",
   "execution_count": 93,
   "metadata": {},
   "outputs": [
    {
     "name": "stdout",
     "output_type": "stream",
     "text": [
      "1\n",
      "2\n",
      "Fizz\n",
      "4\n",
      "Buzz\n",
      "Fizz\n",
      "7\n",
      "8\n",
      "Fizz\n",
      "Buzz\n",
      "11\n",
      "Fizz\n",
      "13\n",
      "14\n",
      "FizzBuzz\n",
      "16\n",
      "17\n",
      "Fizz\n",
      "19\n",
      "Buzz\n",
      "Fizz\n",
      "22\n",
      "23\n",
      "Fizz\n",
      "Buzz\n",
      "26\n",
      "Fizz\n",
      "28\n",
      "29\n",
      "FizzBuzz\n",
      "31\n",
      "32\n",
      "Fizz\n",
      "34\n",
      "Buzz\n",
      "Fizz\n",
      "37\n",
      "38\n",
      "Fizz\n",
      "Buzz\n",
      "41\n",
      "Fizz\n",
      "43\n",
      "44\n",
      "FizzBuzz\n",
      "46\n",
      "47\n",
      "Fizz\n",
      "49\n",
      "Buzz\n",
      "Fizz\n",
      "52\n",
      "53\n",
      "Fizz\n",
      "Buzz\n",
      "56\n",
      "Fizz\n",
      "58\n",
      "59\n",
      "FizzBuzz\n",
      "61\n",
      "62\n",
      "Fizz\n",
      "64\n",
      "Buzz\n",
      "Fizz\n",
      "67\n",
      "68\n",
      "Fizz\n",
      "Buzz\n",
      "71\n",
      "Fizz\n",
      "73\n",
      "74\n",
      "FizzBuzz\n",
      "76\n",
      "77\n",
      "Fizz\n",
      "79\n",
      "Buzz\n",
      "Fizz\n",
      "82\n",
      "83\n",
      "Fizz\n",
      "Buzz\n",
      "86\n",
      "Fizz\n",
      "88\n",
      "89\n",
      "FizzBuzz\n",
      "91\n",
      "92\n",
      "Fizz\n",
      "94\n",
      "Buzz\n",
      "Fizz\n",
      "97\n",
      "98\n",
      "Fizz\n"
     ]
    }
   ],
   "source": [
    "# Solution #2: For loop calls fizzorbuzz function\n",
    "\n",
    "# This function determines the output with multiple of 3 or 5 logic\n",
    "def fizzorbuzz(num):\n",
    "    if num % 3 == 0:\n",
    "        if num % 5 == 0:\n",
    "            return \"FizzBuzz\"\n",
    "        else:\n",
    "            return \"Fizz\"\n",
    "    elif num % 5 == 0:\n",
    "        return \"Buzz\"\n",
    "    else:\n",
    "        return num\n",
    "\n",
    "# Calls function in range given in problem statment\n",
    "# Output is not a list\n",
    "for x in range(1,100):\n",
    "    print fizzorbuzz(x)\n"
   ]
  },
  {
   "cell_type": "markdown",
   "metadata": {},
   "source": [
    "### Challenge 3: String Compressor\n",
    "Implement a method to perform basic string compression using the counts of repeated characters. (This is called run-length encoding.) For example, the string \"aabcccccaaa\" would become a2b1c5a3. \n",
    "\n",
    "If the “compressed” string would not become smaller than the original string, your method should return the original string. You can assume the string has only uppercase and lowercase letters (a–z). \n",
    "\n",
    "Specify whether your solution is case sensitive or case insensitive and what you would need to change to make it the other."
   ]
  },
  {
   "cell_type": "code",
   "execution_count": 81,
   "metadata": {},
   "outputs": [
    {
     "name": "stdout",
     "output_type": "stream",
     "text": [
      "S6s4t4T3e2v1V2E3\n"
     ]
    }
   ],
   "source": [
    "# This string compressor is case sensitive.\n",
    "# It treats uppercase and lowercase letters as different characters\n",
    "def stringcompressor(word):\n",
    "    # Initialize variables to be used\n",
    "    char_counter = 0\n",
    "    prev_letter = \"\"\n",
    "    compressed = \"\"\n",
    "    \n",
    "    # Iterate through each character in given 'word'\n",
    "    for curr_letter in word:  \n",
    "        # Compare the current letter to the previous letter\n",
    "        # Add to counter after checking which case\n",
    "        if curr_letter is prev_letter and curr_letter.isupper():\n",
    "            char_counter += 1\n",
    "        if curr_letter is prev_letter and curr_letter.islower():\n",
    "            char_counter += 1\n",
    "            \n",
    "        if curr_letter is not prev_letter:\n",
    "            # Add to the 'compressed' string the reset counter\n",
    "            if char_counter > 0:\n",
    "                compressed += prev_letter + str(char_counter)\n",
    "                char_counter = 1\n",
    "        # Set current letter to previous letter, repeat loop\n",
    "        prev_letter = curr_letter\n",
    "    \n",
    "    # Add last letter and its count to the 'compressed' string\n",
    "    compressed += prev_letter + str(char_counter)\n",
    "    \n",
    "    # Only print the compressed word if shorter than original word\n",
    "    if len(word) < len(compressed):\n",
    "        print word\n",
    "    else:\n",
    "        print compressed\n",
    "            \n",
    "stringcompressor('SSSSSSSssssttttTTTeevVVEEE')        \n",
    "       "
   ]
  },
  {
   "cell_type": "code",
   "execution_count": null,
   "metadata": {
    "collapsed": true
   },
   "outputs": [],
   "source": []
  }
 ],
 "metadata": {
  "anaconda-cloud": {},
  "kernelspec": {
   "display_name": "Python 2",
   "language": "python",
   "name": "python2"
  },
  "language_info": {
   "codemirror_mode": {
    "name": "ipython",
    "version": 2
   },
   "file_extension": ".py",
   "mimetype": "text/x-python",
   "name": "python",
   "nbconvert_exporter": "python",
   "pygments_lexer": "ipython2",
   "version": "2.7.13"
  }
 },
 "nbformat": 4,
 "nbformat_minor": 2
}
